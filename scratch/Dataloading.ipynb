{
 "cells": [
  {
   "cell_type": "markdown",
   "metadata": {},
   "source": [
    "This notebook is so that I am able to do dataloading in the utils file. \n",
    "\n",
    "Make sure things work okay here, and then move it over to the .py file"
   ]
  },
  {
   "cell_type": "code",
   "execution_count": 2,
   "metadata": {},
   "outputs": [],
   "source": [
    "%matplotlib inline"
   ]
  },
  {
   "cell_type": "code",
   "execution_count": 40,
   "metadata": {},
   "outputs": [],
   "source": [
    "import numpy as np\n",
    "import torch\n",
    "import torchvision\n",
    "import PIL\n",
    "from torch.utils.data import Dataset, DataLoader, SubsetRandomSampler\n",
    "from torchvision import transforms, utils\n",
    "from matplotlib import pyplot\n",
    "import matplotlib.pyplot as plt\n",
    "from torchvision.transforms import ToPILImage"
   ]
  },
  {
   "cell_type": "code",
   "execution_count": 4,
   "metadata": {},
   "outputs": [
    {
     "data": {
      "text/plain": [
       "'/usr/local/data/joshua/noodle'"
      ]
     },
     "execution_count": 4,
     "metadata": {},
     "output_type": "execute_result"
    }
   ],
   "source": [
    "%pwd"
   ]
  },
  {
   "cell_type": "markdown",
   "metadata": {},
   "source": [
    "\"Resources/stimuli\""
   ]
  },
  {
   "cell_type": "code",
   "execution_count": 5,
   "metadata": {},
   "outputs": [],
   "source": [
    "data_path = 'Resources/stimuli/'\n",
    "train_dataset = torchvision.datasets.ImageFolder(root=data_path, transform=torchvision.transforms.ToTensor())"
   ]
  },
  {
   "cell_type": "code",
   "execution_count": 6,
   "metadata": {},
   "outputs": [
    {
     "data": {
      "text/plain": [
       "Dataset ImageFolder\n",
       "    Number of datapoints: 240\n",
       "    Root Location: Resources/stimuli/\n",
       "    Transforms (if any): ToTensor()\n",
       "    Target Transforms (if any): None"
      ]
     },
     "execution_count": 6,
     "metadata": {},
     "output_type": "execute_result"
    }
   ],
   "source": [
    "train_dataset"
   ]
  },
  {
   "cell_type": "code",
   "execution_count": 7,
   "metadata": {},
   "outputs": [
    {
     "name": "stdout",
     "output_type": "stream",
     "text": [
      "['07', '09', '25', '34', '36', '40']\n"
     ]
    }
   ],
   "source": [
    "print(train_dataset.classes)"
   ]
  },
  {
   "cell_type": "code",
   "execution_count": 13,
   "metadata": {},
   "outputs": [
    {
     "name": "stdout",
     "output_type": "stream",
     "text": [
      "tensor([[[1.0000, 1.0000, 1.0000,  ..., 1.0000, 1.0000, 1.0000],\n",
      "         [1.0000, 1.0000, 1.0000,  ..., 1.0000, 1.0000, 1.0000],\n",
      "         [1.0000, 1.0000, 1.0000,  ..., 1.0000, 1.0000, 1.0000],\n",
      "         ...,\n",
      "         [0.6118, 0.6157, 0.5922,  ..., 0.5843, 0.6000, 0.5843],\n",
      "         [0.6078, 0.6039, 0.6157,  ..., 0.6000, 0.6000, 0.6157],\n",
      "         [0.5843, 0.6039, 0.5882,  ..., 0.6000, 0.6235, 0.6235]],\n",
      "\n",
      "        [[1.0000, 1.0000, 1.0000,  ..., 1.0000, 1.0000, 1.0000],\n",
      "         [1.0000, 1.0000, 1.0000,  ..., 1.0000, 1.0000, 1.0000],\n",
      "         [1.0000, 1.0000, 1.0000,  ..., 1.0000, 1.0000, 1.0000],\n",
      "         ...,\n",
      "         [0.5843, 0.5804, 0.5569,  ..., 0.5569, 0.5647, 0.5569],\n",
      "         [0.5804, 0.5765, 0.5882,  ..., 0.5647, 0.5725, 0.5882],\n",
      "         [0.5569, 0.5765, 0.5608,  ..., 0.5608, 0.5961, 0.5961]],\n",
      "\n",
      "        [[1.0000, 1.0000, 1.0000,  ..., 1.0000, 1.0000, 1.0000],\n",
      "         [1.0000, 1.0000, 1.0000,  ..., 1.0000, 1.0000, 1.0000],\n",
      "         [1.0000, 1.0000, 1.0000,  ..., 1.0000, 1.0000, 1.0000],\n",
      "         ...,\n",
      "         [0.5451, 0.5529, 0.5373,  ..., 0.5255, 0.5451, 0.5333],\n",
      "         [0.5412, 0.5373, 0.5569,  ..., 0.5451, 0.5490, 0.5569],\n",
      "         [0.5255, 0.5451, 0.5294,  ..., 0.5529, 0.5647, 0.5569]]])\n"
     ]
    }
   ],
   "source": [
    "x,y = train_dataset[56]\n",
    "print(x)"
   ]
  },
  {
   "cell_type": "code",
   "execution_count": 14,
   "metadata": {},
   "outputs": [
    {
     "name": "stdout",
     "output_type": "stream",
     "text": [
      "1\n"
     ]
    }
   ],
   "source": [
    "print(y)"
   ]
  },
  {
   "cell_type": "code",
   "execution_count": 17,
   "metadata": {},
   "outputs": [],
   "source": [
    "get_image = ToPILImage()\n",
    "# get_image(x)# [Works. Redacted.]"
   ]
  },
  {
   "cell_type": "code",
   "execution_count": 18,
   "metadata": {},
   "outputs": [],
   "source": [
    "def get_image(x):\n",
    "    output = ToPILImage()\n",
    "    return output(x)\n"
   ]
  },
  {
   "cell_type": "markdown",
   "metadata": {},
   "source": [
    "# DataLoader: \n",
    "\n",
    "This lets us supply the data in chunks.\n",
    "Return one of these to the function call. \n",
    "\n",
    "\n",
    "First though, split into trian and validation. \n",
    "Also create many augmentation units for train"
   ]
  },
  {
   "cell_type": "code",
   "execution_count": 31,
   "metadata": {},
   "outputs": [
    {
     "data": {
      "text/plain": [
       "8"
      ]
     },
     "execution_count": 31,
     "metadata": {},
     "output_type": "execute_result"
    }
   ],
   "source": [
    "num_train = len(train_dataset)\n",
    "indices = list (range(num_train))\n",
    "train_loader = DataLoader(train_dataset, batch_size=30, sampler=SubsetRandomSampler(indices), num_workers=0)\n",
    "\n",
    "len(train_loader)"
   ]
  },
  {
   "cell_type": "code",
   "execution_count": 39,
   "metadata": {},
   "outputs": [
    {
     "name": "stdout",
     "output_type": "stream",
     "text": [
      "24\n"
     ]
    },
    {
     "data": {
      "text/plain": [
       "(9, 1)"
      ]
     },
     "execution_count": 39,
     "metadata": {},
     "output_type": "execute_result"
    }
   ],
   "source": [
    "BATCH_SIZE=24\n",
    "\n",
    "def _split(train_dataset,\n",
    "           batch_size=BATCH_SIZE,\n",
    "           num_workers=0,\n",
    "           valid_size=0.1,\n",
    "           sampler=SubsetRandomSampler):\n",
    "    num_train=len(train_dataset)\n",
    "    indices= list (range(num_train))\n",
    "    np.random.shuffle(indices)\n",
    "    split = int(np.floor(valid_size * num_train))\n",
    "    print(split)\n",
    "    train_idx, valid_idx = indices[split:], indices[:split]\n",
    "    train_sampler = sampler(train_idx)\n",
    "    valid_sampler = sampler(valid_idx)\n",
    "    \n",
    "    train_loader = DataLoader(train_dataset,\n",
    "                              batch_size=batch_size,\n",
    "                              sampler=train_sampler,\n",
    "                              num_workers=num_workers)\n",
    "\n",
    "    valid_loader = DataLoader(train_dataset,\n",
    "                              batch_size=batch_size,\n",
    "                              sampler=valid_sampler,\n",
    "                              num_workers=num_workers)\n",
    "\n",
    "    return train_loader,valid_loader\n",
    "\n",
    "\n",
    "\n",
    "tl, vl = _split(train_dataset)\n",
    "\n",
    "len(tl),len(vl)\n"
   ]
  },
  {
   "cell_type": "markdown",
   "metadata": {},
   "source": [
    "# Augmenting\n",
    "\n",
    "https://stackoverflow.com/questions/51677788/data-augmentation-in-pytorch\n",
    "  \n",
    "  Check this out^"
   ]
  },
  {
   "cell_type": "code",
   "execution_count": 43,
   "metadata": {},
   "outputs": [],
   "source": [
    "transforms = torchvision.transforms.Compose([\n",
    "    torchvision.transforms.Resize((224,224)),\n",
    "    torchvision.transforms.ColorJitter(hue=.05, saturation=.05),\n",
    "    torchvision.transforms.RandomHorizontalFlip(),\n",
    "    torchvision.transforms.RandomRotation(20, resample=PIL.Image.BILINEAR)\n",
    "])"
   ]
  },
  {
   "cell_type": "code",
   "execution_count": 48,
   "metadata": {},
   "outputs": [],
   "source": [
    "data_path = 'Resources/stimuli/'\n",
    "test = torchvision.datasets.ImageFolder(root=data_path, transform=torchvision.transforms.Compose([torchvision.transforms.ToTensor(),torchvision.transforms.Resize((224,224))]))"
   ]
  },
  {
   "cell_type": "code",
   "execution_count": 49,
   "metadata": {},
   "outputs": [
    {
     "data": {
      "text/plain": [
       "Dataset ImageFolder\n",
       "    Number of datapoints: 240\n",
       "    Root Location: Resources/stimuli/\n",
       "    Transforms (if any): Compose(\n",
       "                             ToTensor()\n",
       "                             Resize(size=(224, 224), interpolation=PIL.Image.BILINEAR)\n",
       "                         )\n",
       "    Target Transforms (if any): None"
      ]
     },
     "execution_count": 49,
     "metadata": {},
     "output_type": "execute_result"
    }
   ],
   "source": [
    "test"
   ]
  },
  {
   "cell_type": "code",
   "execution_count": 52,
   "metadata": {},
   "outputs": [
    {
     "name": "stdout",
     "output_type": "stream",
     "text": [
      "tensor([[[1.0000, 1.0000, 1.0000,  ..., 1.0000, 1.0000, 1.0000],\n",
      "         [1.0000, 1.0000, 1.0000,  ..., 1.0000, 1.0000, 1.0000],\n",
      "         [1.0000, 1.0000, 1.0000,  ..., 1.0000, 1.0000, 1.0000],\n",
      "         ...,\n",
      "         [0.6118, 0.6157, 0.5922,  ..., 0.5843, 0.6000, 0.5843],\n",
      "         [0.6078, 0.6039, 0.6157,  ..., 0.6000, 0.6000, 0.6157],\n",
      "         [0.5843, 0.6039, 0.5882,  ..., 0.6000, 0.6235, 0.6235]],\n",
      "\n",
      "        [[1.0000, 1.0000, 1.0000,  ..., 1.0000, 1.0000, 1.0000],\n",
      "         [1.0000, 1.0000, 1.0000,  ..., 1.0000, 1.0000, 1.0000],\n",
      "         [1.0000, 1.0000, 1.0000,  ..., 1.0000, 1.0000, 1.0000],\n",
      "         ...,\n",
      "         [0.5843, 0.5804, 0.5569,  ..., 0.5569, 0.5647, 0.5569],\n",
      "         [0.5804, 0.5765, 0.5882,  ..., 0.5647, 0.5725, 0.5882],\n",
      "         [0.5569, 0.5765, 0.5608,  ..., 0.5608, 0.5961, 0.5961]],\n",
      "\n",
      "        [[1.0000, 1.0000, 1.0000,  ..., 1.0000, 1.0000, 1.0000],\n",
      "         [1.0000, 1.0000, 1.0000,  ..., 1.0000, 1.0000, 1.0000],\n",
      "         [1.0000, 1.0000, 1.0000,  ..., 1.0000, 1.0000, 1.0000],\n",
      "         ...,\n",
      "         [0.5451, 0.5529, 0.5373,  ..., 0.5255, 0.5451, 0.5333],\n",
      "         [0.5412, 0.5373, 0.5569,  ..., 0.5451, 0.5490, 0.5569],\n",
      "         [0.5255, 0.5451, 0.5294,  ..., 0.5529, 0.5647, 0.5569]]])\n"
     ]
    }
   ],
   "source": [
    "x,y = train_dataset[56]\n",
    "print(x)"
   ]
  },
  {
   "cell_type": "code",
   "execution_count": 55,
   "metadata": {},
   "outputs": [
    {
     "data": {
      "text/plain": [
       "torch.Size([3, 650, 506])"
      ]
     },
     "execution_count": 55,
     "metadata": {},
     "output_type": "execute_result"
    }
   ],
   "source": []
  },
  {
   "cell_type": "code",
   "execution_count": null,
   "metadata": {},
   "outputs": [],
   "source": []
  }
 ],
 "metadata": {
  "kernelspec": {
   "display_name": "Python 3",
   "language": "python",
   "name": "python3"
  },
  "language_info": {
   "codemirror_mode": {
    "name": "ipython",
    "version": 3
   },
   "file_extension": ".py",
   "mimetype": "text/x-python",
   "name": "python",
   "nbconvert_exporter": "python",
   "pygments_lexer": "ipython3",
   "version": "3.7.3"
  }
 },
 "nbformat": 4,
 "nbformat_minor": 2
}
